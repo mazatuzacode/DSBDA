{
 "cells": [
  {
   "cell_type": "code",
   "execution_count": 1,
   "id": "7e55d203",
   "metadata": {},
   "outputs": [],
   "source": [
    "import pandas as pd"
   ]
  },
  {
   "cell_type": "code",
   "execution_count": 2,
   "id": "7e79435c",
   "metadata": {},
   "outputs": [],
   "source": [
    "import numpy as np"
   ]
  },
  {
   "cell_type": "code",
   "execution_count": 7,
   "id": "95f51aef",
   "metadata": {},
   "outputs": [],
   "source": [
    "df = pd.read_csv('https://query.data.world/s/hkgtwha5bibgaxwteuma3mlzgei2zv?dws=00000')"
   ]
  },
  {
   "cell_type": "code",
   "execution_count": 9,
   "id": "be080b47",
   "metadata": {},
   "outputs": [
    {
     "data": {
      "text/html": [
       "<div>\n",
       "<style scoped>\n",
       "    .dataframe tbody tr th:only-of-type {\n",
       "        vertical-align: middle;\n",
       "    }\n",
       "\n",
       "    .dataframe tbody tr th {\n",
       "        vertical-align: top;\n",
       "    }\n",
       "\n",
       "    .dataframe thead th {\n",
       "        text-align: right;\n",
       "    }\n",
       "</style>\n",
       "<table border=\"1\" class=\"dataframe\">\n",
       "  <thead>\n",
       "    <tr style=\"text-align: right;\">\n",
       "      <th></th>\n",
       "      <th>FOOD NAME</th>\n",
       "      <th>SCIENTIFIC NAME</th>\n",
       "      <th>GROUP</th>\n",
       "      <th>SUB GROUP</th>\n",
       "    </tr>\n",
       "  </thead>\n",
       "  <tbody>\n",
       "    <tr>\n",
       "      <th>0</th>\n",
       "      <td>Angelica</td>\n",
       "      <td>Angelica keiskei</td>\n",
       "      <td>Herbs and Spices</td>\n",
       "      <td>Herbs</td>\n",
       "    </tr>\n",
       "    <tr>\n",
       "      <th>1</th>\n",
       "      <td>Savoy cabbage</td>\n",
       "      <td>Brassica oleracea var. sabauda</td>\n",
       "      <td>Vegetables</td>\n",
       "      <td>Cabbages</td>\n",
       "    </tr>\n",
       "    <tr>\n",
       "      <th>2</th>\n",
       "      <td>Silver linden</td>\n",
       "      <td>Tilia argentea</td>\n",
       "      <td>Herbs and Spices</td>\n",
       "      <td>Herbs</td>\n",
       "    </tr>\n",
       "    <tr>\n",
       "      <th>3</th>\n",
       "      <td>Kiwi</td>\n",
       "      <td>Actinidia chinensis</td>\n",
       "      <td>Fruits</td>\n",
       "      <td>Tropical fruits</td>\n",
       "    </tr>\n",
       "    <tr>\n",
       "      <th>4</th>\n",
       "      <td>Allium (Onion)</td>\n",
       "      <td>Allium</td>\n",
       "      <td>Vegetables</td>\n",
       "      <td>Onion-family vegetables</td>\n",
       "    </tr>\n",
       "    <tr>\n",
       "      <th>5</th>\n",
       "      <td>Garden onion</td>\n",
       "      <td>Allium cepa</td>\n",
       "      <td>Vegetables</td>\n",
       "      <td>Onion-family vegetables</td>\n",
       "    </tr>\n",
       "    <tr>\n",
       "      <th>6</th>\n",
       "      <td>Leek</td>\n",
       "      <td>Allium porrum</td>\n",
       "      <td>Vegetables</td>\n",
       "      <td>Onion-family vegetables</td>\n",
       "    </tr>\n",
       "    <tr>\n",
       "      <th>7</th>\n",
       "      <td>Garlic</td>\n",
       "      <td>Allium sativum</td>\n",
       "      <td>Herbs and Spices</td>\n",
       "      <td>Herbs</td>\n",
       "    </tr>\n",
       "    <tr>\n",
       "      <th>8</th>\n",
       "      <td>Chives</td>\n",
       "      <td>Allium schoenoprasum</td>\n",
       "      <td>Herbs and Spices</td>\n",
       "      <td>Herbs</td>\n",
       "    </tr>\n",
       "    <tr>\n",
       "      <th>9</th>\n",
       "      <td>Lemon verbena</td>\n",
       "      <td>Aloysia triphylla</td>\n",
       "      <td>Herbs and Spices</td>\n",
       "      <td>Herbs</td>\n",
       "    </tr>\n",
       "  </tbody>\n",
       "</table>\n",
       "</div>"
      ],
      "text/plain": [
       "        FOOD NAME                 SCIENTIFIC NAME             GROUP  \\\n",
       "0        Angelica                Angelica keiskei  Herbs and Spices   \n",
       "1   Savoy cabbage  Brassica oleracea var. sabauda        Vegetables   \n",
       "2   Silver linden                  Tilia argentea  Herbs and Spices   \n",
       "3            Kiwi             Actinidia chinensis            Fruits   \n",
       "4  Allium (Onion)                          Allium        Vegetables   \n",
       "5    Garden onion                     Allium cepa        Vegetables   \n",
       "6            Leek                   Allium porrum        Vegetables   \n",
       "7          Garlic                  Allium sativum  Herbs and Spices   \n",
       "8          Chives            Allium schoenoprasum  Herbs and Spices   \n",
       "9   Lemon verbena               Aloysia triphylla  Herbs and Spices   \n",
       "\n",
       "                 SUB GROUP  \n",
       "0                    Herbs  \n",
       "1                 Cabbages  \n",
       "2                    Herbs  \n",
       "3          Tropical fruits  \n",
       "4  Onion-family vegetables  \n",
       "5  Onion-family vegetables  \n",
       "6  Onion-family vegetables  \n",
       "7                    Herbs  \n",
       "8                    Herbs  \n",
       "9                    Herbs  "
      ]
     },
     "execution_count": 9,
     "metadata": {},
     "output_type": "execute_result"
    }
   ],
   "source": [
    "df = df.head(10)\n",
    "df"
   ]
  },
  {
   "cell_type": "code",
   "execution_count": 10,
   "id": "5595b181",
   "metadata": {},
   "outputs": [
    {
     "data": {
      "text/html": [
       "<div>\n",
       "<style scoped>\n",
       "    .dataframe tbody tr th:only-of-type {\n",
       "        vertical-align: middle;\n",
       "    }\n",
       "\n",
       "    .dataframe tbody tr th {\n",
       "        vertical-align: top;\n",
       "    }\n",
       "\n",
       "    .dataframe thead th {\n",
       "        text-align: right;\n",
       "    }\n",
       "</style>\n",
       "<table border=\"1\" class=\"dataframe\">\n",
       "  <thead>\n",
       "    <tr style=\"text-align: right;\">\n",
       "      <th></th>\n",
       "      <th>FOOD NAME</th>\n",
       "      <th>SCIENTIFIC NAME</th>\n",
       "      <th>GROUP</th>\n",
       "      <th>SUB GROUP</th>\n",
       "    </tr>\n",
       "  </thead>\n",
       "  <tbody>\n",
       "    <tr>\n",
       "      <th>0</th>\n",
       "      <td>False</td>\n",
       "      <td>False</td>\n",
       "      <td>False</td>\n",
       "      <td>False</td>\n",
       "    </tr>\n",
       "    <tr>\n",
       "      <th>1</th>\n",
       "      <td>False</td>\n",
       "      <td>False</td>\n",
       "      <td>False</td>\n",
       "      <td>False</td>\n",
       "    </tr>\n",
       "    <tr>\n",
       "      <th>2</th>\n",
       "      <td>False</td>\n",
       "      <td>False</td>\n",
       "      <td>False</td>\n",
       "      <td>False</td>\n",
       "    </tr>\n",
       "    <tr>\n",
       "      <th>3</th>\n",
       "      <td>False</td>\n",
       "      <td>False</td>\n",
       "      <td>False</td>\n",
       "      <td>False</td>\n",
       "    </tr>\n",
       "    <tr>\n",
       "      <th>4</th>\n",
       "      <td>False</td>\n",
       "      <td>False</td>\n",
       "      <td>False</td>\n",
       "      <td>False</td>\n",
       "    </tr>\n",
       "    <tr>\n",
       "      <th>5</th>\n",
       "      <td>False</td>\n",
       "      <td>False</td>\n",
       "      <td>False</td>\n",
       "      <td>False</td>\n",
       "    </tr>\n",
       "    <tr>\n",
       "      <th>6</th>\n",
       "      <td>False</td>\n",
       "      <td>False</td>\n",
       "      <td>False</td>\n",
       "      <td>False</td>\n",
       "    </tr>\n",
       "    <tr>\n",
       "      <th>7</th>\n",
       "      <td>False</td>\n",
       "      <td>False</td>\n",
       "      <td>False</td>\n",
       "      <td>False</td>\n",
       "    </tr>\n",
       "    <tr>\n",
       "      <th>8</th>\n",
       "      <td>False</td>\n",
       "      <td>False</td>\n",
       "      <td>False</td>\n",
       "      <td>False</td>\n",
       "    </tr>\n",
       "    <tr>\n",
       "      <th>9</th>\n",
       "      <td>False</td>\n",
       "      <td>False</td>\n",
       "      <td>False</td>\n",
       "      <td>False</td>\n",
       "    </tr>\n",
       "  </tbody>\n",
       "</table>\n",
       "</div>"
      ],
      "text/plain": [
       "   FOOD NAME  SCIENTIFIC NAME  GROUP  SUB GROUP\n",
       "0      False            False  False      False\n",
       "1      False            False  False      False\n",
       "2      False            False  False      False\n",
       "3      False            False  False      False\n",
       "4      False            False  False      False\n",
       "5      False            False  False      False\n",
       "6      False            False  False      False\n",
       "7      False            False  False      False\n",
       "8      False            False  False      False\n",
       "9      False            False  False      False"
      ]
     },
     "execution_count": 10,
     "metadata": {},
     "output_type": "execute_result"
    }
   ],
   "source": [
    "df.isnull()"
   ]
  },
  {
   "cell_type": "code",
   "execution_count": 11,
   "id": "fd4a7d59",
   "metadata": {},
   "outputs": [
    {
     "data": {
      "text/html": [
       "<div>\n",
       "<style scoped>\n",
       "    .dataframe tbody tr th:only-of-type {\n",
       "        vertical-align: middle;\n",
       "    }\n",
       "\n",
       "    .dataframe tbody tr th {\n",
       "        vertical-align: top;\n",
       "    }\n",
       "\n",
       "    .dataframe thead th {\n",
       "        text-align: right;\n",
       "    }\n",
       "</style>\n",
       "<table border=\"1\" class=\"dataframe\">\n",
       "  <thead>\n",
       "    <tr style=\"text-align: right;\">\n",
       "      <th></th>\n",
       "      <th>FOOD NAME</th>\n",
       "      <th>SCIENTIFIC NAME</th>\n",
       "      <th>GROUP</th>\n",
       "      <th>SUB GROUP</th>\n",
       "    </tr>\n",
       "  </thead>\n",
       "  <tbody>\n",
       "    <tr>\n",
       "      <th>count</th>\n",
       "      <td>10</td>\n",
       "      <td>10</td>\n",
       "      <td>10</td>\n",
       "      <td>10</td>\n",
       "    </tr>\n",
       "    <tr>\n",
       "      <th>unique</th>\n",
       "      <td>10</td>\n",
       "      <td>10</td>\n",
       "      <td>3</td>\n",
       "      <td>4</td>\n",
       "    </tr>\n",
       "    <tr>\n",
       "      <th>top</th>\n",
       "      <td>Angelica</td>\n",
       "      <td>Angelica keiskei</td>\n",
       "      <td>Herbs and Spices</td>\n",
       "      <td>Herbs</td>\n",
       "    </tr>\n",
       "    <tr>\n",
       "      <th>freq</th>\n",
       "      <td>1</td>\n",
       "      <td>1</td>\n",
       "      <td>5</td>\n",
       "      <td>5</td>\n",
       "    </tr>\n",
       "  </tbody>\n",
       "</table>\n",
       "</div>"
      ],
      "text/plain": [
       "       FOOD NAME   SCIENTIFIC NAME             GROUP SUB GROUP\n",
       "count         10                10                10        10\n",
       "unique        10                10                 3         4\n",
       "top     Angelica  Angelica keiskei  Herbs and Spices     Herbs\n",
       "freq           1                 1                 5         5"
      ]
     },
     "execution_count": 11,
     "metadata": {},
     "output_type": "execute_result"
    }
   ],
   "source": [
    "df.describe()"
   ]
  },
  {
   "cell_type": "code",
   "execution_count": 12,
   "id": "d0243424",
   "metadata": {},
   "outputs": [
    {
     "data": {
      "text/plain": [
       "40"
      ]
     },
     "execution_count": 12,
     "metadata": {},
     "output_type": "execute_result"
    }
   ],
   "source": [
    "df.size"
   ]
  },
  {
   "cell_type": "code",
   "execution_count": 13,
   "id": "699d65b3",
   "metadata": {},
   "outputs": [
    {
     "data": {
      "text/plain": [
       "(10, 4)"
      ]
     },
     "execution_count": 13,
     "metadata": {},
     "output_type": "execute_result"
    }
   ],
   "source": [
    "df.shape"
   ]
  },
  {
   "cell_type": "code",
   "execution_count": 14,
   "id": "3eb9a788",
   "metadata": {},
   "outputs": [
    {
     "data": {
      "text/plain": [
       "2"
      ]
     },
     "execution_count": 14,
     "metadata": {},
     "output_type": "execute_result"
    }
   ],
   "source": [
    "df.ndim"
   ]
  },
  {
   "cell_type": "code",
   "execution_count": 15,
   "id": "74ff3bf5",
   "metadata": {},
   "outputs": [],
   "source": [
    "dataTypeSeries = df.dtypes"
   ]
  },
  {
   "cell_type": "code",
   "execution_count": 16,
   "id": "aad09db2",
   "metadata": {},
   "outputs": [
    {
     "name": "stdout",
     "output_type": "stream",
     "text": [
      "Data Type of Each column of DataFrame is: \n",
      "FOOD NAME          object\n",
      "SCIENTIFIC NAME    object\n",
      "GROUP              object\n",
      "SUB GROUP          object\n",
      "dtype: object\n"
     ]
    }
   ],
   "source": [
    "print(\"Data Type of Each column of DataFrame is: \")\n",
    "print(dataTypeSeries)"
   ]
  },
  {
   "cell_type": "code",
   "execution_count": 17,
   "id": "227b31e2",
   "metadata": {},
   "outputs": [
    {
     "data": {
      "text/html": [
       "<div>\n",
       "<style scoped>\n",
       "    .dataframe tbody tr th:only-of-type {\n",
       "        vertical-align: middle;\n",
       "    }\n",
       "\n",
       "    .dataframe tbody tr th {\n",
       "        vertical-align: top;\n",
       "    }\n",
       "\n",
       "    .dataframe thead th {\n",
       "        text-align: right;\n",
       "    }\n",
       "</style>\n",
       "<table border=\"1\" class=\"dataframe\">\n",
       "  <thead>\n",
       "    <tr style=\"text-align: right;\">\n",
       "      <th></th>\n",
       "      <th>FOOD NAME</th>\n",
       "      <th>SCIENTIFIC NAME</th>\n",
       "      <th>GROUP</th>\n",
       "      <th>SUB GROUP</th>\n",
       "    </tr>\n",
       "  </thead>\n",
       "  <tbody>\n",
       "    <tr>\n",
       "      <th>0</th>\n",
       "      <td>Angelica</td>\n",
       "      <td>Angelica keiskei</td>\n",
       "      <td>Herbs and Spices</td>\n",
       "      <td>Herbs</td>\n",
       "    </tr>\n",
       "    <tr>\n",
       "      <th>1</th>\n",
       "      <td>Savoy cabbage</td>\n",
       "      <td>Brassica oleracea var. sabauda</td>\n",
       "      <td>Vegetables</td>\n",
       "      <td>Cabbages</td>\n",
       "    </tr>\n",
       "    <tr>\n",
       "      <th>2</th>\n",
       "      <td>Silver linden</td>\n",
       "      <td>Tilia argentea</td>\n",
       "      <td>Herbs and Spices</td>\n",
       "      <td>Herbs</td>\n",
       "    </tr>\n",
       "    <tr>\n",
       "      <th>3</th>\n",
       "      <td>Kiwi</td>\n",
       "      <td>Actinidia chinensis</td>\n",
       "      <td>Fruits</td>\n",
       "      <td>Tropical fruits</td>\n",
       "    </tr>\n",
       "    <tr>\n",
       "      <th>4</th>\n",
       "      <td>Allium (Onion)</td>\n",
       "      <td>Allium</td>\n",
       "      <td>Vegetables</td>\n",
       "      <td>Onion-family vegetables</td>\n",
       "    </tr>\n",
       "    <tr>\n",
       "      <th>5</th>\n",
       "      <td>Garden onion</td>\n",
       "      <td>Allium cepa</td>\n",
       "      <td>Vegetables</td>\n",
       "      <td>Onion-family vegetables</td>\n",
       "    </tr>\n",
       "    <tr>\n",
       "      <th>6</th>\n",
       "      <td>Leek</td>\n",
       "      <td>Allium porrum</td>\n",
       "      <td>Vegetables</td>\n",
       "      <td>Onion-family vegetables</td>\n",
       "    </tr>\n",
       "    <tr>\n",
       "      <th>7</th>\n",
       "      <td>Garlic</td>\n",
       "      <td>Allium sativum</td>\n",
       "      <td>Herbs and Spices</td>\n",
       "      <td>Herbs</td>\n",
       "    </tr>\n",
       "    <tr>\n",
       "      <th>8</th>\n",
       "      <td>Chives</td>\n",
       "      <td>Allium schoenoprasum</td>\n",
       "      <td>Herbs and Spices</td>\n",
       "      <td>Herbs</td>\n",
       "    </tr>\n",
       "    <tr>\n",
       "      <th>9</th>\n",
       "      <td>Lemon verbena</td>\n",
       "      <td>Aloysia triphylla</td>\n",
       "      <td>Herbs and Spices</td>\n",
       "      <td>Herbs</td>\n",
       "    </tr>\n",
       "  </tbody>\n",
       "</table>\n",
       "</div>"
      ],
      "text/plain": [
       "        FOOD NAME                 SCIENTIFIC NAME             GROUP  \\\n",
       "0        Angelica                Angelica keiskei  Herbs and Spices   \n",
       "1   Savoy cabbage  Brassica oleracea var. sabauda        Vegetables   \n",
       "2   Silver linden                  Tilia argentea  Herbs and Spices   \n",
       "3            Kiwi             Actinidia chinensis            Fruits   \n",
       "4  Allium (Onion)                          Allium        Vegetables   \n",
       "5    Garden onion                     Allium cepa        Vegetables   \n",
       "6            Leek                   Allium porrum        Vegetables   \n",
       "7          Garlic                  Allium sativum  Herbs and Spices   \n",
       "8          Chives            Allium schoenoprasum  Herbs and Spices   \n",
       "9   Lemon verbena               Aloysia triphylla  Herbs and Spices   \n",
       "\n",
       "                 SUB GROUP  \n",
       "0                    Herbs  \n",
       "1                 Cabbages  \n",
       "2                    Herbs  \n",
       "3          Tropical fruits  \n",
       "4  Onion-family vegetables  \n",
       "5  Onion-family vegetables  \n",
       "6  Onion-family vegetables  \n",
       "7                    Herbs  \n",
       "8                    Herbs  \n",
       "9                    Herbs  "
      ]
     },
     "execution_count": 17,
     "metadata": {},
     "output_type": "execute_result"
    }
   ],
   "source": [
    "df.head(10)"
   ]
  }
 ],
 "metadata": {
  "kernelspec": {
   "display_name": "Python 3 (ipykernel)",
   "language": "python",
   "name": "python3"
  },
  "language_info": {
   "codemirror_mode": {
    "name": "ipython",
    "version": 3
   },
   "file_extension": ".py",
   "mimetype": "text/x-python",
   "name": "python",
   "nbconvert_exporter": "python",
   "pygments_lexer": "ipython3",
   "version": "3.10.9"
  }
 },
 "nbformat": 4,
 "nbformat_minor": 5
}
